{
 "cells": [
  {
   "cell_type": "code",
   "execution_count": 3,
   "id": "d096d034",
   "metadata": {},
   "outputs": [],
   "source": [
    "import cv2\n",
    "import dlib\n",
    "import numpy as np\n",
    "    \n",
    "        \n",
    "def find_nearest_face(faces):\n",
    "    squares = [abs(face.right() - face.left()) * abs(face.bottom() - face.top()) for face in faces]\n",
    "    # distances = [np.sqrt((face.right() - face.left()) ** 2 + (face.bottom() - face.top()) ** 2) for face in faces]\n",
    "    # print(distances)\n",
    "    nearest_idx = np.argmax(squares)\n",
    "    return faces[nearest_idx]\n",
    "\n",
    "\n",
    "def main():\n",
    "    cap = cv2.VideoCapture(0)\n",
    "    face_detector = dlib.get_frontal_face_detector()\n",
    "\n",
    "    while True:\n",
    "        ret, frame = cap.read()\n",
    "        if not ret:\n",
    "            break\n",
    "\n",
    "        gray = cv2.cvtColor(frame, cv2.COLOR_BGR2GRAY)\n",
    "        faces = face_detector(gray)\n",
    "\n",
    "        if len(faces) > 0:\n",
    "            nearest_face = find_nearest_face(faces)\n",
    "            x, y, w, h = nearest_face.left(), nearest_face.top(), nearest_face.width(), nearest_face.height()\n",
    "            cv2.rectangle(frame, (x, y), (x + w, y + h), (0, 255, 0), 2)\n",
    "            cv2.imshow('Face Tracking', frame)\n",
    "\n",
    "        if cv2.waitKey(1) & 0xFF == ord('q'):\n",
    "            break\n",
    "\n",
    "    # Free up resources\n",
    "    cap.release()\n",
    "    cv2.destroyAllWindows()\n",
    "\n",
    "\n",
    "if __name__ == '__main__':\n",
    "     main()"
   ]
  }
 ],
 "metadata": {
  "kernelspec": {
   "display_name": "Python 3 (ipykernel)",
   "language": "python",
   "name": "python3"
  },
  "language_info": {
   "codemirror_mode": {
    "name": "ipython",
    "version": 3
   },
   "file_extension": ".py",
   "mimetype": "text/x-python",
   "name": "python",
   "nbconvert_exporter": "python",
   "pygments_lexer": "ipython3",
   "version": "3.11.4"
  }
 },
 "nbformat": 4,
 "nbformat_minor": 5
}
