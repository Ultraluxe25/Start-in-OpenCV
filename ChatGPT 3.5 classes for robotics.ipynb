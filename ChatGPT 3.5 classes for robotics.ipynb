{
 "cells": [
  {
   "cell_type": "code",
   "execution_count": null,
   "id": "0f3c4d87",
   "metadata": {},
   "outputs": [],
   "source": [
    "import cv2\n",
    "\n",
    "\n",
    "class FaceDetector:\n",
    "    def __init__(self, cascade_path):\n",
    "        self.face_cascade = cv2.CascadeClassifier(cascade_path)\n",
    "        self.cap = cv2.VideoCapture(0)\n",
    "    \n",
    "    \n",
    "    def _detect_faces(self, frame):\n",
    "        \"\"\"\n",
    "        Convert image into gray color\n",
    "        \"\"\"\n",
    "        gray = cv2.cvtColor(frame, cv2.COLOR_BGR2GRAY)\n",
    "        return self.face_cascade.detectMultiScale(gray, scaleFactor=1.1, minNeighbors=5, minSize=(30, 30))\n",
    "    \n",
    "    \n",
    "    def _draw_faces(self, frame, faces):\n",
    "        for (x, y, w, h) in faces:\n",
    "            cv2.rectangle(frame, (x, y), (x+w, y+h), (255, 0, 0), 2)\n",
    "\n",
    "            \n",
    "    def run(self):\n",
    "        while True:\n",
    "            ret, frame = self.cap.read()\n",
    "            faces = self._detect_faces(frame)\n",
    "            self._draw_faces(frame, faces)\n",
    "            cv2.imshow('Face Detection', frame)\n",
    "            \n",
    "            if cv2.waitKey(1) & 0xFF == ord('q'):\n",
    "                break\n",
    "\n",
    "        \n",
    "    def __del__(self):\n",
    "        self.cap.release()\n",
    "        cv2.destroyAllWindows()\n",
    "\n",
    "        \n",
    "if __name__ == \"__main__\":\n",
    "    cascade_path = cv2.data.haarcascades + 'haarcascade_frontalface_default.xml'\n",
    "    face_detector = FaceDetector(cascade_path)\n",
    "    try:\n",
    "        face_detector.run()\n",
    "    finally:\n",
    "        del face_detector"
   ]
  }
 ],
 "metadata": {
  "kernelspec": {
   "display_name": "Python 3 (ipykernel)",
   "language": "python",
   "name": "python3"
  },
  "language_info": {
   "codemirror_mode": {
    "name": "ipython",
    "version": 3
   },
   "file_extension": ".py",
   "mimetype": "text/x-python",
   "name": "python",
   "nbconvert_exporter": "python",
   "pygments_lexer": "ipython3",
   "version": "3.11.4"
  }
 },
 "nbformat": 4,
 "nbformat_minor": 5
}
