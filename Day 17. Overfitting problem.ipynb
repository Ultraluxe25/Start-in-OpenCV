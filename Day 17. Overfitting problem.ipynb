{
 "cells": [
  {
   "cell_type": "code",
   "execution_count": 1,
   "id": "2bc30fce",
   "metadata": {},
   "outputs": [],
   "source": [
    "# Creation of the model\n",
    "from tensorflow.keras.datasets import fashion_mnist\n",
    "from tensorflow.keras.models import Sequential\n",
    "from tensorflow.keras.layers import Dense\n",
    "from tensorflow.keras import utils\n",
    "\n",
    "\n",
    "(x_train, y_train), (x_test, y_test) = fashion_mnist.load_data()\n",
    "x_train = x_train.reshape(60000, 784)\n",
    "x_test = x_test.reshape(10000, 784)\n",
    "\n",
    "x_train = x_train.astype('float32') / 255\n",
    "x_test = x_test.astype('float32') / 255\n",
    "\n",
    "y_train = utils.to_categorical(y=y_train, num_classes=10)\n",
    "y_test = utils.to_categorical(y=y_test, num_classes=10)\n",
    "\n",
    "\n",
    "classes = ['T-shirt/Top', 'Trouser', 'Pullover', 'Dress', 'Coat', 'Sandals', 'Shirt', 'Sneaker', 'Bag', 'Ankle boots']\n",
    "\n",
    "model = Sequential()\n",
    "model.add(layer=Dense(units=800, activation='relu', input_dim=784))\n",
    "model.add(layer=Dense(units=10, activation='softmax'))\n",
    "model.compile(optimizer='SGD', loss='categorical_crossentropy', metrics=['accuracy'])"
   ]
  },
  {
   "cell_type": "code",
   "execution_count": 2,
   "id": "d7c731a8",
   "metadata": {},
   "outputs": [
    {
     "name": "stdout",
     "output_type": "stream",
     "text": [
      "Epoch 1/100\n",
      "240/240 [==============================] - 5s 11ms/step - loss: 1.1765 - accuracy: 0.6658 - val_loss: 0.8333 - val_accuracy: 0.7393\n",
      "Epoch 2/100\n",
      "240/240 [==============================] - 2s 10ms/step - loss: 0.7629 - accuracy: 0.7585 - val_loss: 0.6949 - val_accuracy: 0.7796\n",
      "Epoch 3/100\n",
      "240/240 [==============================] - 2s 10ms/step - loss: 0.6668 - accuracy: 0.7889 - val_loss: 0.6320 - val_accuracy: 0.7974\n",
      "Epoch 4/100\n",
      "240/240 [==============================] - 2s 9ms/step - loss: 0.6149 - accuracy: 0.8043 - val_loss: 0.5926 - val_accuracy: 0.8048\n",
      "Epoch 5/100\n",
      "240/240 [==============================] - 2s 10ms/step - loss: 0.5807 - accuracy: 0.8125 - val_loss: 0.5643 - val_accuracy: 0.8155\n",
      "Epoch 6/100\n",
      "240/240 [==============================] - 3s 11ms/step - loss: 0.5560 - accuracy: 0.8199 - val_loss: 0.5451 - val_accuracy: 0.8206\n",
      "Epoch 7/100\n",
      "240/240 [==============================] - 2s 10ms/step - loss: 0.5362 - accuracy: 0.8255 - val_loss: 0.5305 - val_accuracy: 0.8210\n",
      "Epoch 8/100\n",
      "240/240 [==============================] - 2s 10ms/step - loss: 0.5209 - accuracy: 0.8289 - val_loss: 0.5158 - val_accuracy: 0.8253\n",
      "Epoch 9/100\n",
      "240/240 [==============================] - 3s 11ms/step - loss: 0.5081 - accuracy: 0.8321 - val_loss: 0.5055 - val_accuracy: 0.8292\n",
      "Epoch 10/100\n",
      "240/240 [==============================] - 3s 11ms/step - loss: 0.4974 - accuracy: 0.8354 - val_loss: 0.4954 - val_accuracy: 0.8313\n",
      "Epoch 11/100\n",
      "240/240 [==============================] - 2s 10ms/step - loss: 0.4878 - accuracy: 0.8384 - val_loss: 0.4877 - val_accuracy: 0.8342\n",
      "Epoch 12/100\n",
      "240/240 [==============================] - 2s 10ms/step - loss: 0.4794 - accuracy: 0.8401 - val_loss: 0.4813 - val_accuracy: 0.8371\n",
      "Epoch 13/100\n",
      "240/240 [==============================] - 3s 13ms/step - loss: 0.4722 - accuracy: 0.8419 - val_loss: 0.4763 - val_accuracy: 0.8384\n",
      "Epoch 14/100\n",
      "240/240 [==============================] - 3s 12ms/step - loss: 0.4655 - accuracy: 0.8438 - val_loss: 0.4704 - val_accuracy: 0.8381\n",
      "Epoch 15/100\n",
      "240/240 [==============================] - 2s 10ms/step - loss: 0.4599 - accuracy: 0.8461 - val_loss: 0.4684 - val_accuracy: 0.8385\n",
      "Epoch 16/100\n",
      "240/240 [==============================] - 3s 11ms/step - loss: 0.4543 - accuracy: 0.8470 - val_loss: 0.4584 - val_accuracy: 0.8423\n",
      "Epoch 17/100\n",
      "240/240 [==============================] - 3s 13ms/step - loss: 0.4493 - accuracy: 0.8484 - val_loss: 0.4558 - val_accuracy: 0.8443\n",
      "Epoch 18/100\n",
      "240/240 [==============================] - 3s 12ms/step - loss: 0.4447 - accuracy: 0.8495 - val_loss: 0.4525 - val_accuracy: 0.8432\n",
      "Epoch 19/100\n",
      "240/240 [==============================] - 3s 12ms/step - loss: 0.4405 - accuracy: 0.8508 - val_loss: 0.4512 - val_accuracy: 0.8429\n",
      "Epoch 20/100\n",
      "240/240 [==============================] - 4s 16ms/step - loss: 0.4362 - accuracy: 0.8523 - val_loss: 0.4425 - val_accuracy: 0.8471\n",
      "Epoch 21/100\n",
      "240/240 [==============================] - 3s 11ms/step - loss: 0.4326 - accuracy: 0.8535 - val_loss: 0.4402 - val_accuracy: 0.8481\n",
      "Epoch 22/100\n",
      "240/240 [==============================] - 3s 11ms/step - loss: 0.4292 - accuracy: 0.8543 - val_loss: 0.4384 - val_accuracy: 0.8471\n",
      "Epoch 23/100\n",
      "240/240 [==============================] - 3s 11ms/step - loss: 0.4261 - accuracy: 0.8560 - val_loss: 0.4345 - val_accuracy: 0.8508\n",
      "Epoch 24/100\n",
      "240/240 [==============================] - 3s 12ms/step - loss: 0.4224 - accuracy: 0.8568 - val_loss: 0.4338 - val_accuracy: 0.8503\n",
      "Epoch 25/100\n",
      "240/240 [==============================] - 3s 12ms/step - loss: 0.4194 - accuracy: 0.8568 - val_loss: 0.4313 - val_accuracy: 0.8493\n",
      "Epoch 26/100\n",
      "240/240 [==============================] - 3s 13ms/step - loss: 0.4165 - accuracy: 0.8587 - val_loss: 0.4269 - val_accuracy: 0.8528\n",
      "Epoch 27/100\n",
      "240/240 [==============================] - 3s 13ms/step - loss: 0.4139 - accuracy: 0.8594 - val_loss: 0.4260 - val_accuracy: 0.8540\n",
      "Epoch 28/100\n",
      "240/240 [==============================] - 4s 17ms/step - loss: 0.4114 - accuracy: 0.8608 - val_loss: 0.4228 - val_accuracy: 0.8539\n",
      "Epoch 29/100\n",
      "240/240 [==============================] - 3s 14ms/step - loss: 0.4083 - accuracy: 0.8606 - val_loss: 0.4212 - val_accuracy: 0.8540\n",
      "Epoch 30/100\n",
      "240/240 [==============================] - 4s 15ms/step - loss: 0.4059 - accuracy: 0.8625 - val_loss: 0.4174 - val_accuracy: 0.8558\n",
      "Epoch 31/100\n",
      "240/240 [==============================] - 4s 15ms/step - loss: 0.4037 - accuracy: 0.8624 - val_loss: 0.4177 - val_accuracy: 0.8562\n",
      "Epoch 32/100\n",
      "240/240 [==============================] - 3s 13ms/step - loss: 0.4014 - accuracy: 0.8640 - val_loss: 0.4141 - val_accuracy: 0.8563\n",
      "Epoch 33/100\n",
      "240/240 [==============================] - 3s 13ms/step - loss: 0.3991 - accuracy: 0.8646 - val_loss: 0.4138 - val_accuracy: 0.8563\n",
      "Epoch 34/100\n",
      "240/240 [==============================] - 2s 10ms/step - loss: 0.3970 - accuracy: 0.8643 - val_loss: 0.4117 - val_accuracy: 0.8593\n",
      "Epoch 35/100\n",
      "240/240 [==============================] - 3s 14ms/step - loss: 0.3951 - accuracy: 0.8658 - val_loss: 0.4115 - val_accuracy: 0.8573\n",
      "Epoch 36/100\n",
      "240/240 [==============================] - 4s 15ms/step - loss: 0.3929 - accuracy: 0.8659 - val_loss: 0.4071 - val_accuracy: 0.8601\n",
      "Epoch 37/100\n",
      "240/240 [==============================] - 3s 13ms/step - loss: 0.3908 - accuracy: 0.8661 - val_loss: 0.4066 - val_accuracy: 0.8582\n",
      "Epoch 38/100\n",
      "240/240 [==============================] - 3s 11ms/step - loss: 0.3888 - accuracy: 0.8676 - val_loss: 0.4046 - val_accuracy: 0.8608\n",
      "Epoch 39/100\n",
      "240/240 [==============================] - 3s 13ms/step - loss: 0.3871 - accuracy: 0.8684 - val_loss: 0.4045 - val_accuracy: 0.8599\n",
      "Epoch 40/100\n",
      "240/240 [==============================] - 3s 11ms/step - loss: 0.3857 - accuracy: 0.8687 - val_loss: 0.4010 - val_accuracy: 0.8611\n",
      "Epoch 41/100\n",
      "240/240 [==============================] - 3s 11ms/step - loss: 0.3835 - accuracy: 0.8685 - val_loss: 0.3996 - val_accuracy: 0.8612\n",
      "Epoch 42/100\n",
      "240/240 [==============================] - 3s 11ms/step - loss: 0.3820 - accuracy: 0.8699 - val_loss: 0.4001 - val_accuracy: 0.8607\n",
      "Epoch 43/100\n",
      "240/240 [==============================] - 3s 12ms/step - loss: 0.3801 - accuracy: 0.8701 - val_loss: 0.4016 - val_accuracy: 0.8622\n",
      "Epoch 44/100\n",
      "240/240 [==============================] - 3s 12ms/step - loss: 0.3783 - accuracy: 0.8715 - val_loss: 0.3969 - val_accuracy: 0.8631\n",
      "Epoch 45/100\n",
      "240/240 [==============================] - 3s 11ms/step - loss: 0.3765 - accuracy: 0.8719 - val_loss: 0.3962 - val_accuracy: 0.8634\n",
      "Epoch 46/100\n",
      "240/240 [==============================] - 3s 12ms/step - loss: 0.3754 - accuracy: 0.8715 - val_loss: 0.3959 - val_accuracy: 0.8622\n",
      "Epoch 47/100\n",
      "240/240 [==============================] - 3s 12ms/step - loss: 0.3737 - accuracy: 0.8723 - val_loss: 0.3930 - val_accuracy: 0.8638\n",
      "Epoch 48/100\n",
      "240/240 [==============================] - 4s 16ms/step - loss: 0.3719 - accuracy: 0.8734 - val_loss: 0.3916 - val_accuracy: 0.8647\n",
      "Epoch 49/100\n",
      "240/240 [==============================] - 5s 20ms/step - loss: 0.3712 - accuracy: 0.8734 - val_loss: 0.3904 - val_accuracy: 0.8648\n",
      "Epoch 50/100\n",
      "240/240 [==============================] - 5s 19ms/step - loss: 0.3695 - accuracy: 0.8731 - val_loss: 0.3894 - val_accuracy: 0.8633\n",
      "Epoch 51/100\n",
      "240/240 [==============================] - 4s 17ms/step - loss: 0.3676 - accuracy: 0.8737 - val_loss: 0.3881 - val_accuracy: 0.8653\n",
      "Epoch 52/100\n",
      "240/240 [==============================] - 4s 17ms/step - loss: 0.3665 - accuracy: 0.8742 - val_loss: 0.3865 - val_accuracy: 0.8662\n",
      "Epoch 53/100\n",
      "240/240 [==============================] - 4s 17ms/step - loss: 0.3648 - accuracy: 0.8748 - val_loss: 0.3858 - val_accuracy: 0.8661\n",
      "Epoch 54/100\n",
      "240/240 [==============================] - 4s 17ms/step - loss: 0.3635 - accuracy: 0.8757 - val_loss: 0.3856 - val_accuracy: 0.8659\n",
      "Epoch 55/100\n",
      "240/240 [==============================] - 4s 18ms/step - loss: 0.3622 - accuracy: 0.8764 - val_loss: 0.3841 - val_accuracy: 0.8663\n",
      "Epoch 56/100\n",
      "240/240 [==============================] - 3s 12ms/step - loss: 0.3609 - accuracy: 0.8766 - val_loss: 0.3838 - val_accuracy: 0.8664\n",
      "Epoch 57/100\n",
      "240/240 [==============================] - 5s 19ms/step - loss: 0.3597 - accuracy: 0.8770 - val_loss: 0.3857 - val_accuracy: 0.8650\n",
      "Epoch 58/100\n",
      "240/240 [==============================] - 4s 15ms/step - loss: 0.3582 - accuracy: 0.8762 - val_loss: 0.3865 - val_accuracy: 0.8661\n",
      "Epoch 59/100\n",
      "240/240 [==============================] - 3s 12ms/step - loss: 0.3571 - accuracy: 0.8782 - val_loss: 0.3797 - val_accuracy: 0.8679\n",
      "Epoch 60/100\n",
      "240/240 [==============================] - 2s 10ms/step - loss: 0.3557 - accuracy: 0.8778 - val_loss: 0.3791 - val_accuracy: 0.8671\n",
      "Epoch 61/100\n",
      "240/240 [==============================] - 3s 13ms/step - loss: 0.3547 - accuracy: 0.8784 - val_loss: 0.3791 - val_accuracy: 0.8671\n",
      "Epoch 62/100\n",
      "240/240 [==============================] - 2s 10ms/step - loss: 0.3531 - accuracy: 0.8788 - val_loss: 0.3779 - val_accuracy: 0.8684\n",
      "Epoch 63/100\n",
      "240/240 [==============================] - 4s 17ms/step - loss: 0.3521 - accuracy: 0.8793 - val_loss: 0.3770 - val_accuracy: 0.8684\n",
      "Epoch 64/100\n",
      "240/240 [==============================] - 3s 11ms/step - loss: 0.3508 - accuracy: 0.8788 - val_loss: 0.3792 - val_accuracy: 0.8685\n",
      "Epoch 65/100\n",
      "240/240 [==============================] - 3s 11ms/step - loss: 0.3501 - accuracy: 0.8800 - val_loss: 0.3802 - val_accuracy: 0.8673\n",
      "Epoch 66/100\n",
      "240/240 [==============================] - 2s 10ms/step - loss: 0.3491 - accuracy: 0.8804 - val_loss: 0.3754 - val_accuracy: 0.8692\n",
      "Epoch 67/100\n",
      "240/240 [==============================] - 3s 14ms/step - loss: 0.3473 - accuracy: 0.8804 - val_loss: 0.3730 - val_accuracy: 0.8687\n",
      "Epoch 68/100\n",
      "240/240 [==============================] - 3s 13ms/step - loss: 0.3459 - accuracy: 0.8816 - val_loss: 0.3732 - val_accuracy: 0.8686\n",
      "Epoch 69/100\n",
      "240/240 [==============================] - 2s 10ms/step - loss: 0.3451 - accuracy: 0.8801 - val_loss: 0.3725 - val_accuracy: 0.8701\n",
      "Epoch 70/100\n",
      "240/240 [==============================] - 3s 12ms/step - loss: 0.3441 - accuracy: 0.8818 - val_loss: 0.3751 - val_accuracy: 0.8673\n",
      "Epoch 71/100\n",
      "240/240 [==============================] - 3s 13ms/step - loss: 0.3428 - accuracy: 0.8824 - val_loss: 0.3703 - val_accuracy: 0.8708\n",
      "Epoch 72/100\n",
      "240/240 [==============================] - 3s 12ms/step - loss: 0.3419 - accuracy: 0.8825 - val_loss: 0.3705 - val_accuracy: 0.8693\n",
      "Epoch 73/100\n",
      "240/240 [==============================] - 3s 14ms/step - loss: 0.3409 - accuracy: 0.8825 - val_loss: 0.3707 - val_accuracy: 0.8711\n",
      "Epoch 74/100\n",
      "240/240 [==============================] - 3s 14ms/step - loss: 0.3400 - accuracy: 0.8830 - val_loss: 0.3682 - val_accuracy: 0.8712\n",
      "Epoch 75/100\n",
      "240/240 [==============================] - 3s 11ms/step - loss: 0.3385 - accuracy: 0.8834 - val_loss: 0.3689 - val_accuracy: 0.8712\n",
      "Epoch 76/100\n",
      "240/240 [==============================] - 3s 12ms/step - loss: 0.3381 - accuracy: 0.8839 - val_loss: 0.3683 - val_accuracy: 0.8706\n",
      "Epoch 77/100\n",
      "240/240 [==============================] - 3s 12ms/step - loss: 0.3367 - accuracy: 0.8839 - val_loss: 0.3671 - val_accuracy: 0.8723\n",
      "Epoch 78/100\n",
      "240/240 [==============================] - 2s 10ms/step - loss: 0.3355 - accuracy: 0.8843 - val_loss: 0.3670 - val_accuracy: 0.8704\n",
      "Epoch 79/100\n",
      "240/240 [==============================] - 3s 11ms/step - loss: 0.3347 - accuracy: 0.8844 - val_loss: 0.3642 - val_accuracy: 0.8731\n",
      "Epoch 80/100\n",
      "240/240 [==============================] - 3s 11ms/step - loss: 0.3337 - accuracy: 0.8854 - val_loss: 0.3658 - val_accuracy: 0.8723\n",
      "Epoch 81/100\n",
      "240/240 [==============================] - 3s 11ms/step - loss: 0.3328 - accuracy: 0.8848 - val_loss: 0.3655 - val_accuracy: 0.8714\n",
      "Epoch 82/100\n",
      "240/240 [==============================] - 2s 10ms/step - loss: 0.3318 - accuracy: 0.8860 - val_loss: 0.3628 - val_accuracy: 0.8726\n",
      "Epoch 83/100\n",
      "240/240 [==============================] - 3s 11ms/step - loss: 0.3312 - accuracy: 0.8861 - val_loss: 0.3659 - val_accuracy: 0.8703\n",
      "Epoch 84/100\n",
      "240/240 [==============================] - 3s 11ms/step - loss: 0.3301 - accuracy: 0.8859 - val_loss: 0.3622 - val_accuracy: 0.8729\n",
      "Epoch 85/100\n",
      "240/240 [==============================] - 3s 11ms/step - loss: 0.3293 - accuracy: 0.8861 - val_loss: 0.3617 - val_accuracy: 0.8728\n",
      "Epoch 86/100\n",
      "240/240 [==============================] - 2s 10ms/step - loss: 0.3282 - accuracy: 0.8869 - val_loss: 0.3606 - val_accuracy: 0.8733\n",
      "Epoch 87/100\n",
      "240/240 [==============================] - 3s 11ms/step - loss: 0.3270 - accuracy: 0.8876 - val_loss: 0.3601 - val_accuracy: 0.8725\n",
      "Epoch 88/100\n",
      "240/240 [==============================] - 3s 11ms/step - loss: 0.3259 - accuracy: 0.8871 - val_loss: 0.3650 - val_accuracy: 0.8702\n",
      "Epoch 89/100\n",
      "240/240 [==============================] - 3s 12ms/step - loss: 0.3251 - accuracy: 0.8879 - val_loss: 0.3604 - val_accuracy: 0.8727\n",
      "Epoch 90/100\n",
      "240/240 [==============================] - 3s 11ms/step - loss: 0.3243 - accuracy: 0.8875 - val_loss: 0.3584 - val_accuracy: 0.8754\n",
      "Epoch 91/100\n",
      "240/240 [==============================] - 3s 11ms/step - loss: 0.3238 - accuracy: 0.8883 - val_loss: 0.3577 - val_accuracy: 0.8745\n",
      "Epoch 92/100\n",
      "240/240 [==============================] - 3s 11ms/step - loss: 0.3226 - accuracy: 0.8890 - val_loss: 0.3576 - val_accuracy: 0.8737\n",
      "Epoch 93/100\n",
      "240/240 [==============================] - 3s 11ms/step - loss: 0.3222 - accuracy: 0.8876 - val_loss: 0.3572 - val_accuracy: 0.8753\n",
      "Epoch 94/100\n",
      "240/240 [==============================] - 2s 10ms/step - loss: 0.3205 - accuracy: 0.8896 - val_loss: 0.3618 - val_accuracy: 0.8749\n",
      "Epoch 95/100\n",
      "240/240 [==============================] - 2s 9ms/step - loss: 0.3201 - accuracy: 0.8898 - val_loss: 0.3572 - val_accuracy: 0.8737\n",
      "Epoch 96/100\n",
      "240/240 [==============================] - 2s 10ms/step - loss: 0.3193 - accuracy: 0.8895 - val_loss: 0.3569 - val_accuracy: 0.8755\n",
      "Epoch 97/100\n",
      "240/240 [==============================] - 2s 10ms/step - loss: 0.3180 - accuracy: 0.8897 - val_loss: 0.3553 - val_accuracy: 0.8745\n",
      "Epoch 98/100\n",
      "240/240 [==============================] - 3s 11ms/step - loss: 0.3172 - accuracy: 0.8907 - val_loss: 0.3549 - val_accuracy: 0.8753\n",
      "Epoch 99/100\n",
      "240/240 [==============================] - 3s 11ms/step - loss: 0.3163 - accuracy: 0.8911 - val_loss: 0.3536 - val_accuracy: 0.8758\n",
      "Epoch 100/100\n",
      "240/240 [==============================] - 3s 11ms/step - loss: 0.3158 - accuracy: 0.8909 - val_loss: 0.3544 - val_accuracy: 0.8752\n"
     ]
    },
    {
     "data": {
      "text/plain": [
       "<keras.src.callbacks.History at 0x1799ce137d0>"
      ]
     },
     "execution_count": 2,
     "metadata": {},
     "output_type": "execute_result"
    }
   ],
   "source": [
    "# Train the model\n",
    "model.fit(\n",
    "    x=x_train,\n",
    "    y=y_train,\n",
    "    batch_size=200,\n",
    "    epochs=100,\n",
    "    validation_split=0.2,\n",
    "    verbose=1\n",
    ")"
   ]
  },
  {
   "cell_type": "code",
   "execution_count": 3,
   "id": "18cb2413",
   "metadata": {},
   "outputs": [
    {
     "name": "stdout",
     "output_type": "stream",
     "text": [
      "313/313 [==============================] - 1s 4ms/step - loss: 0.3785 - accuracy: 0.8655\n"
     ]
    },
    {
     "data": {
      "text/plain": [
       "[0.3785328269004822, 0.8654999732971191]"
      ]
     },
     "execution_count": 3,
     "metadata": {},
     "output_type": "execute_result"
    }
   ],
   "source": [
    "# Evaluate the model\n",
    "model.evaluate(x=x_test, y=y_test, verbose=1)"
   ]
  },
  {
   "cell_type": "code",
   "execution_count": 4,
   "id": "b7f7ea8f",
   "metadata": {},
   "outputs": [
    {
     "name": "stderr",
     "output_type": "stream",
     "text": [
      "C:\\Python311\\Lib\\site-packages\\keras\\src\\engine\\training.py:3000: UserWarning: You are saving your model as an HDF5 file via `model.save()`. This file format is considered legacy. We recommend using instead the native Keras format, e.g. `model.save('my_model.keras')`.\n",
      "  saving_api.save_model(\n"
     ]
    }
   ],
   "source": [
    "# Save the model\n",
    "model.save('fashion_mnist_dense.h5')"
   ]
  },
  {
   "cell_type": "code",
   "execution_count": 5,
   "id": "798f94f7",
   "metadata": {},
   "outputs": [],
   "source": [
    "model.save(filepath='my_model.keras')"
   ]
  },
  {
   "cell_type": "code",
   "execution_count": 6,
   "id": "4260779c",
   "metadata": {},
   "outputs": [],
   "source": [
    "# Load the model\n",
    "from tensorflow.keras.models import load_model\n",
    "\n",
    "model = load_model('my_model.keras')"
   ]
  },
  {
   "cell_type": "code",
   "execution_count": 7,
   "id": "d7b4e356",
   "metadata": {},
   "outputs": [],
   "source": [
    "# Save and load only weights\n",
    "model.save_weights('fashion_mnist_weights.keras')\n",
    "model.load_weights('fashion_mnist_weights.keras')"
   ]
  },
  {
   "cell_type": "code",
   "execution_count": 8,
   "id": "276dd84c",
   "metadata": {},
   "outputs": [],
   "source": [
    "# Save and load only architecture in JSON format\n",
    "from tensorflow.keras.models import model_from_json\n",
    "\n",
    "json_model = model.to_json()"
   ]
  },
  {
   "cell_type": "code",
   "execution_count": 9,
   "id": "bd17dafb",
   "metadata": {},
   "outputs": [
    {
     "name": "stdout",
     "output_type": "stream",
     "text": [
      "{\"class_name\": \"Sequential\", \"config\": {\"name\": \"sequential\", \"layers\": [{\"module\": \"keras.layers\", \"class_name\": \"InputLayer\", \"config\": {\"batch_input_shape\": [null, 784], \"dtype\": \"float32\", \"sparse\": false, \"ragged\": false, \"name\": \"dense_input\"}, \"registered_name\": null}, {\"module\": \"keras.layers\", \"class_name\": \"Dense\", \"config\": {\"name\": \"dense\", \"trainable\": true, \"dtype\": \"float32\", \"batch_input_shape\": [null, 784], \"units\": 800, \"activation\": \"relu\", \"use_bias\": true, \"kernel_initializer\": {\"module\": \"keras.initializers\", \"class_name\": \"GlorotUniform\", \"config\": {\"seed\": null}, \"registered_name\": null}, \"bias_initializer\": {\"module\": \"keras.initializers\", \"class_name\": \"Zeros\", \"config\": {}, \"registered_name\": null}, \"kernel_regularizer\": null, \"bias_regularizer\": null, \"activity_regularizer\": null, \"kernel_constraint\": null, \"bias_constraint\": null}, \"registered_name\": null, \"build_config\": {\"input_shape\": [null, 784]}}, {\"module\": \"keras.layers\", \"class_name\": \"Dense\", \"config\": {\"name\": \"dense_1\", \"trainable\": true, \"dtype\": \"float32\", \"units\": 10, \"activation\": \"softmax\", \"use_bias\": true, \"kernel_initializer\": {\"module\": \"keras.initializers\", \"class_name\": \"GlorotUniform\", \"config\": {\"seed\": null}, \"registered_name\": null}, \"bias_initializer\": {\"module\": \"keras.initializers\", \"class_name\": \"Zeros\", \"config\": {}, \"registered_name\": null}, \"kernel_regularizer\": null, \"bias_regularizer\": null, \"activity_regularizer\": null, \"kernel_constraint\": null, \"bias_constraint\": null}, \"registered_name\": null, \"build_config\": {\"input_shape\": [null, 800]}}]}, \"keras_version\": \"2.13.1\", \"backend\": \"tensorflow\"}\n",
      "<class 'str'>\n"
     ]
    }
   ],
   "source": [
    "# JSON description of the model\n",
    "print(json_model)\n",
    "print(type(json_model))"
   ]
  },
  {
   "cell_type": "code",
   "execution_count": 10,
   "id": "989eb6b2",
   "metadata": {},
   "outputs": [
    {
     "name": "stdout",
     "output_type": "stream",
     "text": [
      "Model: \"sequential\"\n",
      "_________________________________________________________________\n",
      " Layer (type)                Output Shape              Param #   \n",
      "=================================================================\n",
      " dense (Dense)               (None, 800)               628000    \n",
      "                                                                 \n",
      " dense_1 (Dense)             (None, 10)                8010      \n",
      "                                                                 \n",
      "=================================================================\n",
      "Total params: 636010 (2.43 MB)\n",
      "Trainable params: 636010 (2.43 MB)\n",
      "Non-trainable params: 0 (0.00 Byte)\n",
      "_________________________________________________________________\n"
     ]
    }
   ],
   "source": [
    "# Model's summary\n",
    "model.summary()"
   ]
  },
  {
   "cell_type": "code",
   "execution_count": 14,
   "id": "4dbe3522",
   "metadata": {},
   "outputs": [
    {
     "name": "stdout",
     "output_type": "stream",
     "text": [
      "Number of layers: 2\n",
      "Number of neurons in each layer: [800, 10]\n",
      "Activation functions in each layer: ['relu', 'softmax']\n"
     ]
    }
   ],
   "source": [
    "# Display important info about NN model\n",
    "import json\n",
    "\n",
    "# Transform string into json-format\n",
    "architecture = json.loads(json_model)\n",
    "\n",
    "# Extract layers from the configuration\n",
    "layers = architecture[\"config\"][\"layers\"]\n",
    "\n",
    "# Initialize lists to store information about the layers\n",
    "neurons_per_layer = []\n",
    "activation_functions = []\n",
    "\n",
    "# Obtain activation and number of units from Dense NN\n",
    "for layer in layers:\n",
    "    if layer[\"class_name\"] == \"Dense\":\n",
    "        units = layer[\"config\"][\"units\"]\n",
    "        activation = layer[\"config\"][\"activation\"]\n",
    "        neurons_per_layer.append(units)\n",
    "        activation_functions.append(activation)\n",
    "\n",
    "# Display results\n",
    "print(\"Number of layers:\", len(neurons_per_layer))\n",
    "print(\"Number of neurons in each layer:\", neurons_per_layer)\n",
    "print(\"Activation functions in each layer:\", activation_functions)"
   ]
  }
 ],
 "metadata": {
  "kernelspec": {
   "display_name": "Python 3 (ipykernel)",
   "language": "python",
   "name": "python3"
  },
  "language_info": {
   "codemirror_mode": {
    "name": "ipython",
    "version": 3
   },
   "file_extension": ".py",
   "mimetype": "text/x-python",
   "name": "python",
   "nbconvert_exporter": "python",
   "pygments_lexer": "ipython3",
   "version": "3.11.4"
  }
 },
 "nbformat": 4,
 "nbformat_minor": 5
}
