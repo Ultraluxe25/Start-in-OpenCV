{
 "cells": [
  {
   "cell_type": "code",
   "execution_count": 1,
   "id": "1136ba4d",
   "metadata": {},
   "outputs": [],
   "source": [
    "import numpy as np\n",
    "import cv2"
   ]
  },
  {
   "cell_type": "code",
   "execution_count": 2,
   "id": "2ccca8ab",
   "metadata": {},
   "outputs": [],
   "source": [
    "# Video processing\n",
    "video = cv2.VideoCapture('videos/video.mp4')\n",
    "\n",
    "while video:\n",
    "    success, img = video.read()\n",
    "    \n",
    "    img = cv2.GaussianBlur(src=img,\n",
    "                           ksize=(9, 9),\n",
    "                           sigmaX=0)\n",
    "    # Contert to gray\n",
    "    img = cv2.cvtColor(src=img,\n",
    "                       code=cv2.COLOR_BGR2GRAY)\n",
    "    # Find the edges of image contours\n",
    "    img = cv2.Canny(image=img, threshold1=30, threshold2=30)\n",
    "    \n",
    "    # Image extension\n",
    "    matrix = np.ones(shape=(5, 5), dtype=np.uint8)\n",
    "    img = cv2.dilate(src=img, kernel=matrix, iterations=1)\n",
    "    \n",
    "    img = cv2.erode(src=img, kernel=matrix, iterations=1)\n",
    "    cv2.imshow(winname='Frame', mat=img)\n",
    "    \n",
    "    if cv2.waitKey(1) & 0xFF == ord('q'):\n",
    "        break\n",
    "        \n",
    "video.release()\n",
    "cv2.destroyAllWindows()    "
   ]
  },
  {
   "cell_type": "markdown",
   "id": "187856d8",
   "metadata": {},
   "source": [
    "# [Gaussian Blur in OpenCV](https://www.tutorialkart.com/opencv/python/opencv-python-gaussian-image-smoothing/#gsc.tab=0)\n",
    "# [OpenCV | cv2.cvtColor()](https://www.geeksforgeeks.org/python-opencv-cv2-cvtcolor-method/)\n",
    "# [OpenCV – Canny()](https://www.geeksforgeeks.org/python-opencv-canny-function/)\n",
    "# [cv2 dilate](https://dev-gang.ru/article/python-cv-dilate-rasshirenie-izobrazhenii-s-ispolzovaniem-opencv-sp8sujfqf9/)\n",
    "# [cv2 erode()](https://dev-gang.ru/article/python-cv-erode-kak-razmyvat-izobrazhenija-s-pomosczu-opencv-pf2ktmgvf5/)\n"
   ]
  },
  {
   "cell_type": "code",
   "execution_count": 3,
   "id": "ab17c63d",
   "metadata": {},
   "outputs": [],
   "source": [
    "# Flip the image\n",
    "img = cv2.imread(filename='images/friends.jpg')\n",
    "img = cv2.flip(src=img, flipCode=1)\n",
    "cv2.imshow('picture', img)\n",
    "cv2.waitKey(5_000)\n",
    "cv2.destroyAllWindows()"
   ]
  },
  {
   "cell_type": "markdown",
   "id": "68e5a107",
   "metadata": {},
   "source": [
    "# [cv2.flip()](https://www.geeksforgeeks.org/python-opencv-cv2-flip-method/)\n"
   ]
  },
  {
   "cell_type": "markdown",
   "id": "fe203392",
   "metadata": {},
   "source": [
    "# Image Rotation"
   ]
  },
  {
   "cell_type": "code",
   "execution_count": 4,
   "id": "14265337",
   "metadata": {},
   "outputs": [],
   "source": [
    "# Image rotation\n",
    "def rotate(image, angle):\n",
    "    height, width = image.shape[:2]\n",
    "    # middle of the image\n",
    "    point = (width // 2, height // 2)\n",
    "    matrix = cv2.getRotationMatrix2D(center=point,\n",
    "                                     angle=angle,\n",
    "                                     scale=1)\n",
    "    # Make Affine transformations\n",
    "    return cv2.warpAffine(src=image,\n",
    "                          M=matrix,\n",
    "                          dsize=(width, height))\n",
    "                          \n",
    "                          \n",
    "img = rotate(img, 90)\n",
    "cv2.imshow('picture', img)\n",
    "cv2.waitKey(5_000)\n",
    "cv2.destroyAllWindows()                          "
   ]
  },
  {
   "cell_type": "markdown",
   "id": "45c78064",
   "metadata": {},
   "source": [
    "# [Image Rotation](https://learnopencv.com/image-rotation-and-translation-using-opencv/)\n",
    "# [Affine Transformation](https://www.geeksforgeeks.org/python-opencv-affine-transformation/)"
   ]
  },
  {
   "cell_type": "markdown",
   "id": "af0a90c0",
   "metadata": {},
   "source": [
    "# Image Shift"
   ]
  },
  {
   "cell_type": "code",
   "execution_count": 5,
   "id": "72823566",
   "metadata": {},
   "outputs": [],
   "source": [
    "# Shift the image from it's edge\n",
    "def shift_image(image_params, x_shift, y_shift):\n",
    "    matrix = np.float32([[1, 0, x_shift],\n",
    "                         [0, 1, y_shift]])\n",
    "    return cv2.warpAffine(image_params,\n",
    "                          matrix,\n",
    "                          dsize=(image_params.shape[1], image_params.shape[0]))\n",
    "\n",
    "\n",
    "img = cv2.imread(filename='images/friends.jpg')\n",
    "img = shift_image(img, 200, 200)\n",
    "cv2.imshow('picture', img)\n",
    "cv2.waitKey(5_000)\n",
    "cv2.destroyAllWindows()"
   ]
  },
  {
   "cell_type": "code",
   "execution_count": 6,
   "id": "0c0edf30",
   "metadata": {},
   "outputs": [],
   "source": [
    "img = cv2.imread(filename='images/friends.jpg')\n",
    "img = cv2.cvtColor(img, cv2.COLOR_BGR2GRAY)\n",
    "img = cv2.GaussianBlur(img, (5, 5), 0)\n",
    "\n",
    "# 100 means that colors < 100 will be ignored and transformed into black color (0)\n",
    "# 140 means that colors > 140 will be ignored and transformed into white color (255)\n",
    "img = cv2.Canny(img, 100, 140)\n",
    "\n",
    "cv2.imshow('picture', img)\n",
    "cv2.waitKey(5_000)\n",
    "cv2.destroyAllWindows()"
   ]
  },
  {
   "cell_type": "code",
   "execution_count": 7,
   "id": "c950d1d9",
   "metadata": {},
   "outputs": [],
   "source": [
    "# Find contours\n",
    "img = cv2.imread(filename='images/friends.jpg')\n",
    "img = cv2.cvtColor(img, cv2.COLOR_BGR2GRAY)\n",
    "img = cv2.GaussianBlur(img, (5, 5), 0)\n",
    "img = cv2.Canny(img, 100, 140)\n",
    "\n",
    "contours, hierarchy = cv2.findContours(image=img,\n",
    "                                      mode=cv2.RETR_LIST,\n",
    "                                      method=cv2.CHAIN_APPROX_NONE)\n",
    "\n",
    "cv2.imshow('picture', img)\n",
    "cv2.waitKey(5_000)\n",
    "cv2.destroyAllWindows()"
   ]
  },
  {
   "cell_type": "code",
   "execution_count": 8,
   "id": "aec11b2c",
   "metadata": {},
   "outputs": [],
   "source": [
    "# Draw new picture using contours\n",
    "img = cv2.imread(filename='images/friends.jpg')\n",
    "\n",
    "new_image = np.zeros(shape=img.shape,\n",
    "                     dtype=np.uint8)\n",
    "cv2.drawContours(image=new_image,\n",
    "                 contours=contours,\n",
    "                 contourIdx=-1,\n",
    "                 color=(0, 0, 255),\n",
    "                 thickness=1)\n",
    "\n",
    "cv2.imshow('picture', new_image)\n",
    "cv2.waitKey(5_000)\n",
    "cv2.destroyAllWindows()"
   ]
  },
  {
   "cell_type": "markdown",
   "id": "930aa21d",
   "metadata": {},
   "source": [
    "# [Contour Detection using OpenCV](https://learnopencv.com/contour-detection-using-opencv-python-c/)"
   ]
  }
 ],
 "metadata": {
  "kernelspec": {
   "display_name": "Python 3 (ipykernel)",
   "language": "python",
   "name": "python3"
  },
  "language_info": {
   "codemirror_mode": {
    "name": "ipython",
    "version": 3
   },
   "file_extension": ".py",
   "mimetype": "text/x-python",
   "name": "python",
   "nbconvert_exporter": "python",
   "pygments_lexer": "ipython3",
   "version": "3.11.4"
  }
 },
 "nbformat": 4,
 "nbformat_minor": 5
}
